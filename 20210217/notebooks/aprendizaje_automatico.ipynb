{
  "nbformat": 4,
  "nbformat_minor": 0,
  "metadata": {
    "colab": {
      "name": "aprendizaje_automatico.ipynb",
      "provenance": [],
      "collapsed_sections": [],
      "authorship_tag": "ABX9TyORUkg4OsuV8/0RVRvaNDDt",
      "include_colab_link": true
    },
    "kernelspec": {
      "name": "python3",
      "display_name": "Python 3"
    }
  },
  "cells": [
    {
      "cell_type": "markdown",
      "metadata": {
        "id": "view-in-github",
        "colab_type": "text"
      },
      "source": [
        "<a href=\"https://colab.research.google.com/github/d-tomas/workshops/blob/main/20210217/notebooks/aprendizaje_automatico.ipynb\" target=\"_parent\"><img src=\"https://colab.research.google.com/assets/colab-badge.svg\" alt=\"Open In Colab\"/></a>"
      ]
    },
    {
      "cell_type": "markdown",
      "metadata": {
        "id": "Zb7zwTnwWull"
      },
      "source": [
        "# Aprendizaje automático"
      ]
    },
    {
      "cell_type": "markdown",
      "metadata": {
        "id": "eW_SQE9SWyI2"
      },
      "source": [
        "En este *notebook* vamos a desarrollar un sistema para análisis de sentimientos (clasificación) y otro para predecir el precio de una casa (regresión)."
      ]
    },
    {
      "cell_type": "markdown",
      "metadata": {
        "id": "NPWkXN6QWhWH"
      },
      "source": [
        "## Pasos previos"
      ]
    },
    {
      "cell_type": "code",
      "metadata": {
        "id": "auwEJKn0Xf1a"
      },
      "source": [
        "# Librerías\n",
        "\n",
        "import matplotlib.pyplot as plt  # Para hacer gráficas\n",
        "import numpy as np  # Obtener valores únicos en un vector\n",
        "import pandas as pd\n",
        "from sklearn.metrics import accuracy_score  # Calcular la precisión del clasificador\n",
        "from sklearn.model_selection import train_test_split  # Separar el dataset en entrenamiento y test\n",
        "from sklearn.metrics import confusion_matrix  # Sacar la matriz de confusión\n",
        "from sklearn.metrics import mean_absolute_error  # Mean Absolut Error (MAE) para regresión\n",
        "from sklearn.svm import SVC  # Algoritmo Support Vector Machines\n",
        "from sklearn.feature_extraction.text import TfidfVectorizer  # Matriz de términos por documento con TF-IDF\n",
        "from xgboost import XGBRegressor  # Algoritmo de regresión\n",
        "import seaborn as sns  # Visualización del mapa de calor\n",
        "\n",
        "# Descargamos el corpus para entrenar y evaluar el sistema de clasificación\n",
        "!wget https://raw.githubusercontent.com/d-tomas/workshops/main/20210217/datasets/cell_phones.csv\n",
        "# Descargamos el corpus para entrenar y evaluar el sistema de regresión\n",
        "!wget https://raw.githubusercontent.com/d-tomas/workshops/main/20210217/datasets/houses.csv"
      ],
      "execution_count": null,
      "outputs": []
    },
    {
      "cell_type": "markdown",
      "metadata": {
        "id": "eNT29Vs8SJBO"
      },
      "source": [
        "## Clasificación"
      ]
    },
    {
      "cell_type": "markdown",
      "metadata": {
        "id": "o_rlmgBwVMTo"
      },
      "source": [
        "Vamos a contruir un sistema de **análisis de sentimientos**. Vamos a entrenar el sistema con un corpus (conjunto de datos) que consta de 1000 opiniones sobre teléfonos móbiles en inglés, 500 positivas (etiquetadas como `POS`) y 500 negativas (etiquetadas como `NEG`).\n",
        "\n"
      ]
    },
    {
      "cell_type": "code",
      "metadata": {
        "id": "Fkcjx1LcWg1h"
      },
      "source": [
        "# Vemos que pinta tiene el corpus de entrenamiento\n",
        "\n",
        "!head cell_phones.csv"
      ],
      "execution_count": null,
      "outputs": []
    },
    {
      "cell_type": "code",
      "metadata": {
        "id": "wyZKgBwgVwrP"
      },
      "source": [
        "# Crear el clasificador para el análisis de sentimientos\n",
        "\n",
        "data_classification = pd.read_csv('cell_phones.csv')  # Cargamos los datos del fichero\n",
        "corpus = data_classification['content'].values  # Guardamos los mensajes\n",
        "y = data_classification['opinion'].values  # Guardamos las opiniones\n",
        "\n",
        "# Tenemos que transformar las palabras en números\n",
        "# Cada palabra del mensaje se representa por su TF-IDF\n",
        "vectorizer = TfidfVectorizer()\n",
        "X = vectorizer.fit_transform(corpus)\n",
        "\n",
        "# Separamos el corpus en entrenamiento (80%) y test (20%)\n",
        "X_train, X_test, y_train, y_test = train_test_split(X, y, test_size=0.2, random_state=1)\n",
        "\n",
        "# Usamos SVM como algoritmo para la clasificaión\n",
        "model = SVC(kernel = 'linear')\n",
        "model.fit(X_train, y_train)  # Entrenamos el modelo\n",
        "\n",
        "# Hacemos la predicción sobre todo el conjunto de test\n",
        "predictions = model.predict(X_test)\n",
        "\n",
        "# Calculamos la precisión del algoritmo\n",
        "print('Precisión: {:.2%}\\n'.format(accuracy_score(predictions, y_test)))\n",
        "print('Matriz de confusión:')\n",
        "\n",
        "plt.figure(figsize=(8, 6))\n",
        "sns.heatmap(confusion_matrix(y_test, predictions), annot=True, linewidth=3)\n",
        "plt.yticks(rotation=0)\n",
        "plt.show()\n"
      ],
      "execution_count": null,
      "outputs": []
    },
    {
      "cell_type": "code",
      "metadata": {
        "id": "iCqlrje0dA15"
      },
      "source": [
        "# Si queremos probar el modelo con una nueva entrada\n",
        "\n",
        "new_input = ['I love this phone!!']\n",
        "# Tenemos que transformar el texto a números, como se hizo al entrenar\n",
        "new_input = vectorizer.transform(new_input)\n",
        "model.predict(new_input)  # Predecimos la etiqueta para la nueva entrada (POS o NEG)"
      ],
      "execution_count": null,
      "outputs": []
    },
    {
      "cell_type": "markdown",
      "metadata": {
        "id": "XK1sr5JOVEKe"
      },
      "source": [
        "## Regresión"
      ]
    },
    {
      "cell_type": "code",
      "metadata": {
        "id": "PHkou6SOhrav"
      },
      "source": [
        "data_regression = pd.read_csv('houses.csv')\n",
        "data_regression"
      ],
      "execution_count": null,
      "outputs": []
    },
    {
      "cell_type": "code",
      "metadata": {
        "id": "Bwv_SjnHhwQi"
      },
      "source": [
        "data_regression.info()"
      ],
      "execution_count": null,
      "outputs": []
    },
    {
      "cell_type": "code",
      "metadata": {
        "id": "wIwMAGBzVIFy"
      },
      "source": [
        "y = data_regression['SalePrice']  # Objetivo a predecir (el precio de las casas)\n",
        "X = data_regression.drop(labels='SalePrice', axis=1)  # Todas las características de cada casa (menos su precio)\n",
        "\n",
        "# Las variables categoriales (las que no contienen números) deben convertirse a números\n",
        "# Usamos la técnica 'one-hot-encoding'\n",
        "X = pd.get_dummies(X)\n",
        "\n",
        "# Creamos los conjuntos de entrenamiento (80%) y test (20%)\n",
        "X_train, X_test, y_train, y_test = train_test_split(X, y, test_size=0.2, random_state=1)\n",
        "\n",
        "# Creamos el modelo pasándole algunos parámetros para ajustarlo y mejorar el rendimiento\n",
        "model = XGBRegressor(colsample_bytree=0.6, learning_rate=0.015, max_depth=4, min_child_weight=3, n_estimators=3000, subsample=0.75, random_state=1)\n",
        "model.fit(X_train, y_train)  # Entrenamos el modelo\n",
        "\n",
        "# Hacemos la predicción sobre el conjunto de test\n",
        "predictions = model.predict(X_test)\n",
        "\n",
        "# Calculamos la precisión del algoritmo (MAE)\n",
        "# Cuanto más pequeño sea este valor mejor\n",
        "print(\"MAE: {:,.0f}\".format(mean_absolute_error(predictions, y_test)))"
      ],
      "execution_count": null,
      "outputs": []
    }
  ]
}